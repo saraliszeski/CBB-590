{
 "cells": [
  {
   "cell_type": "code",
   "execution_count": 63,
   "id": "33a1dac7",
   "metadata": {},
   "outputs": [],
   "source": [
    "import pandas as pd\n",
    "import openpyxl"
   ]
  },
  {
   "cell_type": "code",
   "execution_count": 64,
   "id": "df66690f",
   "metadata": {},
   "outputs": [],
   "source": [
    "df = pd.DataFrame()"
   ]
  },
  {
   "cell_type": "code",
   "execution_count": 88,
   "id": "a1c633b2",
   "metadata": {},
   "outputs": [],
   "source": [
    "import pandas as pd\n",
    "\n",
    "with open('resistor.txt') as f:\n",
    "    lines = [line for line in f.readlines()]\n",
    "\n",
    "split_lines = []\n",
    "for line in range(28, len(lines)): #lines 1-28 are pre-processing data\n",
    "    x = lines[line].split()\n",
    "    split_lines.append(x)\n",
    "\n",
    "#arrays for data\n",
    "seq_nums = []\n",
    "A34 = []\n",
    "A120 =[]\n",
    "A121=[]\n",
    "A401=[]\n",
    "A483=[]\n",
    "A552 = []\n",
    "A553 = []\n",
    "A556= []\n",
    "kstar = []\n",
    "numconfs = []\n",
    "protz = []\n",
    "ligz = []\n",
    "\n",
    "for line in split_lines:\n",
    "    if line[32] != \"NaN\" and line[11]!= \"none\":\n",
    "        seq_nums.append(line[1])\n",
    "        A34.append(line[2].split(\"=\")[1])\n",
    "        A120.append(line[3].split(\"=\")[1])\n",
    "        A121.append(line[4].split(\"=\")[1])\n",
    "        A401.append(line[5].split(\"=\")[1])\n",
    "        A483.append(line[6].split(\"=\")[1])\n",
    "        A552.append(line[7].split(\"=\")[1])\n",
    "        A553.append(line[8].split(\"=\")[1])\n",
    "        A556.append(line[9].split(\"=\")[1])\n",
    "        kstar.append(line[11])\n",
    "        numconfs.append(line[20])\n",
    "        protz.append(line[16])\n",
    "        ligz.append([line[26], line[27]])\n",
    "\n",
    "# Create a new DataFrame with the same shape as the input data\n",
    "df = pd.DataFrame(index=range(len(seq_nums)), columns=[\"sequences numbers\", \"A34\", \"A120\", \"A121\", \"A401\", \"A483\", \"A552\", \"A553\", \"A556\", \"kstar\", \"numconfs\", \"protein z scores\", \"ligand z scores\"])\n",
    "\n",
    "# Assign data to the corresponding columns\n",
    "df[\"sequences numbers\"] = pd.Series(seq_nums)\n",
    "df[\"A34\"] = pd.Series(A34)\n",
    "df[\"A120\"] = pd.Series(A120)\n",
    "df[\"A121\"] = pd.Series(A121)\n",
    "df[\"A401\"] = pd.Series(A401)\n",
    "df[\"A483\"] = pd.Series(A483)\n",
    "df[\"A552\"] = pd.Series(A552)\n",
    "df[\"A553\"] = pd.Series(A553)\n",
    "df[\"A556\"] = pd.Series(A556)\n",
    "df[\"kstar\"] = pd.Series(kstar)\n",
    "df[\"numconfs\"] = pd.Series(numconfs)\n",
    "df[\"protein z scores\"] = pd.Series(protz)\n",
    "df[\"ligand z scores\"] = pd.Series(ligz)\n",
    "\n",
    "df.to_excel(\"kstar_results.xlsx\")\n"
   ]
  },
  {
   "cell_type": "code",
   "execution_count": null,
   "id": "99ac89db",
   "metadata": {},
   "outputs": [],
   "source": []
  }
 ],
 "metadata": {
  "kernelspec": {
   "display_name": "Python 3 (ipykernel)",
   "language": "python",
   "name": "python3"
  },
  "language_info": {
   "codemirror_mode": {
    "name": "ipython",
    "version": 3
   },
   "file_extension": ".py",
   "mimetype": "text/x-python",
   "name": "python",
   "nbconvert_exporter": "python",
   "pygments_lexer": "ipython3",
   "version": "3.9.16"
  }
 },
 "nbformat": 4,
 "nbformat_minor": 5
}
